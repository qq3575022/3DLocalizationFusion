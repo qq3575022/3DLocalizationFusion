{
 "cells": [
  {
   "cell_type": "code",
   "execution_count": 1,
   "metadata": {},
   "outputs": [],
   "source": [
    "import pandas as pd\n",
    "import numpy as np\n",
    "import matplotlib.pyplot as plt"
   ]
  },
  {
   "cell_type": "markdown",
   "metadata": {},
   "source": [
    "## 1. Sampling Interval"
   ]
  },
  {
   "cell_type": "markdown",
   "metadata": {},
   "source": [
    "### T_acc "
   ]
  },
  {
   "cell_type": "code",
   "execution_count": 2,
   "metadata": {},
   "outputs": [
    {
     "name": "stdout",
     "output_type": "stream",
     "text": [
      "1.csv                                \u001b[34mTriangle\u001b[m\u001b[m\r\n",
      "\u001b[34mFigures\u001b[m\u001b[m                              coord3.m\r\n",
      "H1.mat                               coord3.mat\r\n",
      "H2.mat                               getHxk.m\r\n",
      "H3.mat                               groundtruth1Dx.m\r\n",
      "H4.mat                               groundtruth1Dy.m\r\n",
      "\u001b[34mLevenberg_Marquardt_3Reader\u001b[m\u001b[m          groundtruth1Dz.m\r\n",
      "\u001b[34mLevenberg_Marquardt_4Reader\u001b[m\u001b[m          groundtruth2D.m\r\n",
      "Measurement.ipynb                    new_ground_truth_for_qian.m\r\n",
      "\u001b[34mPrev\u001b[m\u001b[m                                 noisysim.m\r\n",
      "PropGp1DPositionData.mat             result.bmp\r\n",
      "PropGp1DVelocityAccelerationData.mat rtoxy.m\r\n",
      "README.md                            td3.mat\r\n",
      "SimulationVerifyMain.m               yVectorData.mat\r\n"
     ]
    }
   ],
   "source": [
    "!ls"
   ]
  },
  {
   "cell_type": "code",
   "execution_count": 3,
   "metadata": {
    "scrolled": true
   },
   "outputs": [],
   "source": [
    "# Sampling Interval for Acceleration\n",
    "T_acc = pd.read_csv('1.csv', header = None, index_col=None)"
   ]
  },
  {
   "cell_type": "code",
   "execution_count": 4,
   "metadata": {
    "scrolled": true
   },
   "outputs": [
    {
     "data": {
      "text/html": [
       "<div>\n",
       "<style scoped>\n",
       "    .dataframe tbody tr th:only-of-type {\n",
       "        vertical-align: middle;\n",
       "    }\n",
       "\n",
       "    .dataframe tbody tr th {\n",
       "        vertical-align: top;\n",
       "    }\n",
       "\n",
       "    .dataframe thead th {\n",
       "        text-align: right;\n",
       "    }\n",
       "</style>\n",
       "<table border=\"1\" class=\"dataframe\">\n",
       "  <thead>\n",
       "    <tr style=\"text-align: right;\">\n",
       "      <th></th>\n",
       "      <th>0</th>\n",
       "      <th>1</th>\n",
       "      <th>2</th>\n",
       "      <th>3</th>\n",
       "      <th>4</th>\n",
       "      <th>5</th>\n",
       "      <th>6</th>\n",
       "      <th>7</th>\n",
       "    </tr>\n",
       "  </thead>\n",
       "  <tbody>\n",
       "    <tr>\n",
       "      <th>0</th>\n",
       "      <td>3375711196038</td>\n",
       "      <td>MAG_UN</td>\n",
       "      <td>28.230286</td>\n",
       "      <td>-72.283936</td>\n",
       "      <td>4.257202</td>\n",
       "      <td>89.860535</td>\n",
       "      <td>-20.529175</td>\n",
       "      <td>28.340149</td>\n",
       "    </tr>\n",
       "    <tr>\n",
       "      <th>1</th>\n",
       "      <td>3375740706536</td>\n",
       "      <td>MAG_UN</td>\n",
       "      <td>27.156830</td>\n",
       "      <td>-72.539520</td>\n",
       "      <td>4.483795</td>\n",
       "      <td>89.860535</td>\n",
       "      <td>-20.529175</td>\n",
       "      <td>28.340149</td>\n",
       "    </tr>\n",
       "    <tr>\n",
       "      <th>2</th>\n",
       "      <td>3375750228021</td>\n",
       "      <td>ACC_UN</td>\n",
       "      <td>0.143570</td>\n",
       "      <td>9.762711</td>\n",
       "      <td>-0.703491</td>\n",
       "      <td>0.000000</td>\n",
       "      <td>0.000000</td>\n",
       "      <td>0.000000</td>\n",
       "    </tr>\n",
       "    <tr>\n",
       "      <th>3</th>\n",
       "      <td>3375752730462</td>\n",
       "      <td>ACC_UN</td>\n",
       "      <td>0.148361</td>\n",
       "      <td>9.731613</td>\n",
       "      <td>-0.720245</td>\n",
       "      <td>0.000000</td>\n",
       "      <td>0.000000</td>\n",
       "      <td>0.000000</td>\n",
       "    </tr>\n",
       "    <tr>\n",
       "      <th>4</th>\n",
       "      <td>3375751357171</td>\n",
       "      <td>MAG_UN</td>\n",
       "      <td>27.070108</td>\n",
       "      <td>-72.123207</td>\n",
       "      <td>3.717041</td>\n",
       "      <td>89.860535</td>\n",
       "      <td>-20.529175</td>\n",
       "      <td>28.340149</td>\n",
       "    </tr>\n",
       "    <tr>\n",
       "      <th>5</th>\n",
       "      <td>3375755202386</td>\n",
       "      <td>ACC_UN</td>\n",
       "      <td>0.143570</td>\n",
       "      <td>9.743576</td>\n",
       "      <td>-0.686737</td>\n",
       "      <td>0.000000</td>\n",
       "      <td>0.000000</td>\n",
       "      <td>0.000000</td>\n",
       "    </tr>\n",
       "    <tr>\n",
       "      <th>6</th>\n",
       "      <td>3375757674310</td>\n",
       "      <td>ACC_UN</td>\n",
       "      <td>0.095718</td>\n",
       "      <td>9.798615</td>\n",
       "      <td>-0.713058</td>\n",
       "      <td>0.000000</td>\n",
       "      <td>0.000000</td>\n",
       "      <td>0.000000</td>\n",
       "    </tr>\n",
       "    <tr>\n",
       "      <th>7</th>\n",
       "      <td>3375760146234</td>\n",
       "      <td>ACC_UN</td>\n",
       "      <td>0.095718</td>\n",
       "      <td>9.791428</td>\n",
       "      <td>-0.631699</td>\n",
       "      <td>0.000000</td>\n",
       "      <td>0.000000</td>\n",
       "      <td>0.000000</td>\n",
       "    </tr>\n",
       "    <tr>\n",
       "      <th>8</th>\n",
       "      <td>3375762618158</td>\n",
       "      <td>ACC_UN</td>\n",
       "      <td>0.112457</td>\n",
       "      <td>9.817749</td>\n",
       "      <td>-0.691528</td>\n",
       "      <td>0.000000</td>\n",
       "      <td>0.000000</td>\n",
       "      <td>0.000000</td>\n",
       "    </tr>\n",
       "    <tr>\n",
       "      <th>9</th>\n",
       "      <td>3375765090081</td>\n",
       "      <td>ACC_UN</td>\n",
       "      <td>0.105286</td>\n",
       "      <td>9.839294</td>\n",
       "      <td>-0.655640</td>\n",
       "      <td>0.000000</td>\n",
       "      <td>0.000000</td>\n",
       "      <td>0.000000</td>\n",
       "    </tr>\n",
       "    <tr>\n",
       "      <th>10</th>\n",
       "      <td>3375767562005</td>\n",
       "      <td>ACC_UN</td>\n",
       "      <td>0.134003</td>\n",
       "      <td>9.791428</td>\n",
       "      <td>-0.701096</td>\n",
       "      <td>0.000000</td>\n",
       "      <td>0.000000</td>\n",
       "      <td>0.000000</td>\n",
       "    </tr>\n",
       "    <tr>\n",
       "      <th>11</th>\n",
       "      <td>3375770033929</td>\n",
       "      <td>ACC_UN</td>\n",
       "      <td>0.114853</td>\n",
       "      <td>9.789032</td>\n",
       "      <td>-0.643677</td>\n",
       "      <td>0.000000</td>\n",
       "      <td>0.000000</td>\n",
       "      <td>0.000000</td>\n",
       "    </tr>\n",
       "    <tr>\n",
       "      <th>12</th>\n",
       "      <td>3375772505853</td>\n",
       "      <td>ACC_UN</td>\n",
       "      <td>0.107681</td>\n",
       "      <td>9.789032</td>\n",
       "      <td>-0.705887</td>\n",
       "      <td>0.000000</td>\n",
       "      <td>0.000000</td>\n",
       "      <td>0.000000</td>\n",
       "    </tr>\n",
       "    <tr>\n",
       "      <th>13</th>\n",
       "      <td>3375754561517</td>\n",
       "      <td>BARO</td>\n",
       "      <td>979.042240</td>\n",
       "      <td>NaN</td>\n",
       "      <td>NaN</td>\n",
       "      <td>NaN</td>\n",
       "      <td>NaN</td>\n",
       "      <td>NaN</td>\n",
       "    </tr>\n",
       "    <tr>\n",
       "      <th>14</th>\n",
       "      <td>3375754561517</td>\n",
       "      <td>BAT_TEMP</td>\n",
       "      <td>26.000000</td>\n",
       "      <td>NaN</td>\n",
       "      <td>NaN</td>\n",
       "      <td>NaN</td>\n",
       "      <td>NaN</td>\n",
       "      <td>NaN</td>\n",
       "    </tr>\n",
       "    <tr>\n",
       "      <th>15</th>\n",
       "      <td>3375771376702</td>\n",
       "      <td>MAG_UN</td>\n",
       "      <td>26.562119</td>\n",
       "      <td>-72.188950</td>\n",
       "      <td>3.594208</td>\n",
       "      <td>89.860535</td>\n",
       "      <td>-20.529175</td>\n",
       "      <td>28.340149</td>\n",
       "    </tr>\n",
       "    <tr>\n",
       "      <th>16</th>\n",
       "      <td>3375774947259</td>\n",
       "      <td>ACC_UN</td>\n",
       "      <td>0.100494</td>\n",
       "      <td>9.800995</td>\n",
       "      <td>-0.698700</td>\n",
       "      <td>0.000000</td>\n",
       "      <td>0.000000</td>\n",
       "      <td>0.000000</td>\n",
       "    </tr>\n",
       "    <tr>\n",
       "      <th>17</th>\n",
       "      <td>3375777388665</td>\n",
       "      <td>ACC_UN</td>\n",
       "      <td>0.098099</td>\n",
       "      <td>9.779465</td>\n",
       "      <td>-0.689133</td>\n",
       "      <td>0.000000</td>\n",
       "      <td>0.000000</td>\n",
       "      <td>0.000000</td>\n",
       "    </tr>\n",
       "    <tr>\n",
       "      <th>18</th>\n",
       "      <td>3375779830072</td>\n",
       "      <td>ACC_UN</td>\n",
       "      <td>0.126816</td>\n",
       "      <td>9.791428</td>\n",
       "      <td>-0.674774</td>\n",
       "      <td>0.000000</td>\n",
       "      <td>0.000000</td>\n",
       "      <td>0.000000</td>\n",
       "    </tr>\n",
       "    <tr>\n",
       "      <th>19</th>\n",
       "      <td>3375782271478</td>\n",
       "      <td>ACC_UN</td>\n",
       "      <td>0.141174</td>\n",
       "      <td>9.803391</td>\n",
       "      <td>-0.748947</td>\n",
       "      <td>0.000000</td>\n",
       "      <td>0.000000</td>\n",
       "      <td>0.000000</td>\n",
       "    </tr>\n",
       "    <tr>\n",
       "      <th>20</th>\n",
       "      <td>3375784743402</td>\n",
       "      <td>ACC_UN</td>\n",
       "      <td>0.122040</td>\n",
       "      <td>9.820145</td>\n",
       "      <td>-0.660416</td>\n",
       "      <td>0.000000</td>\n",
       "      <td>0.000000</td>\n",
       "      <td>0.000000</td>\n",
       "    </tr>\n",
       "    <tr>\n",
       "      <th>21</th>\n",
       "      <td>3375787215325</td>\n",
       "      <td>ACC_UN</td>\n",
       "      <td>0.102890</td>\n",
       "      <td>9.822540</td>\n",
       "      <td>-0.643677</td>\n",
       "      <td>0.000000</td>\n",
       "      <td>0.000000</td>\n",
       "      <td>0.000000</td>\n",
       "    </tr>\n",
       "    <tr>\n",
       "      <th>22</th>\n",
       "      <td>3375789656732</td>\n",
       "      <td>ACC_UN</td>\n",
       "      <td>0.107681</td>\n",
       "      <td>9.812973</td>\n",
       "      <td>-0.770493</td>\n",
       "      <td>0.000000</td>\n",
       "      <td>0.000000</td>\n",
       "      <td>0.000000</td>\n",
       "    </tr>\n",
       "    <tr>\n",
       "      <th>23</th>\n",
       "      <td>3375792128656</td>\n",
       "      <td>ACC_UN</td>\n",
       "      <td>0.122040</td>\n",
       "      <td>9.820145</td>\n",
       "      <td>-0.655640</td>\n",
       "      <td>0.000000</td>\n",
       "      <td>0.000000</td>\n",
       "      <td>0.000000</td>\n",
       "    </tr>\n",
       "    <tr>\n",
       "      <th>24</th>\n",
       "      <td>3375787886712</td>\n",
       "      <td>BARO</td>\n",
       "      <td>978.333600</td>\n",
       "      <td>NaN</td>\n",
       "      <td>NaN</td>\n",
       "      <td>NaN</td>\n",
       "      <td>NaN</td>\n",
       "      <td>NaN</td>\n",
       "    </tr>\n",
       "    <tr>\n",
       "      <th>25</th>\n",
       "      <td>3375787886712</td>\n",
       "      <td>BAT_TEMP</td>\n",
       "      <td>26.000000</td>\n",
       "      <td>NaN</td>\n",
       "      <td>NaN</td>\n",
       "      <td>NaN</td>\n",
       "      <td>NaN</td>\n",
       "      <td>NaN</td>\n",
       "    </tr>\n",
       "    <tr>\n",
       "      <th>26</th>\n",
       "      <td>3375794570062</td>\n",
       "      <td>ACC_UN</td>\n",
       "      <td>0.124420</td>\n",
       "      <td>9.786652</td>\n",
       "      <td>-0.705887</td>\n",
       "      <td>0.000000</td>\n",
       "      <td>0.000000</td>\n",
       "      <td>0.000000</td>\n",
       "    </tr>\n",
       "    <tr>\n",
       "      <th>27</th>\n",
       "      <td>3375791701409</td>\n",
       "      <td>MAG_UN</td>\n",
       "      <td>26.213455</td>\n",
       "      <td>-72.385406</td>\n",
       "      <td>3.520966</td>\n",
       "      <td>89.860535</td>\n",
       "      <td>-20.529175</td>\n",
       "      <td>28.340149</td>\n",
       "    </tr>\n",
       "    <tr>\n",
       "      <th>28</th>\n",
       "      <td>3375797041986</td>\n",
       "      <td>ACC_UN</td>\n",
       "      <td>0.119644</td>\n",
       "      <td>9.738785</td>\n",
       "      <td>-0.679565</td>\n",
       "      <td>0.000000</td>\n",
       "      <td>0.000000</td>\n",
       "      <td>0.000000</td>\n",
       "    </tr>\n",
       "    <tr>\n",
       "      <th>29</th>\n",
       "      <td>3375799513909</td>\n",
       "      <td>ACC_UN</td>\n",
       "      <td>0.122040</td>\n",
       "      <td>9.803391</td>\n",
       "      <td>-0.713058</td>\n",
       "      <td>0.000000</td>\n",
       "      <td>0.000000</td>\n",
       "      <td>0.000000</td>\n",
       "    </tr>\n",
       "    <tr>\n",
       "      <th>...</th>\n",
       "      <td>...</td>\n",
       "      <td>...</td>\n",
       "      <td>...</td>\n",
       "      <td>...</td>\n",
       "      <td>...</td>\n",
       "      <td>...</td>\n",
       "      <td>...</td>\n",
       "      <td>...</td>\n",
       "    </tr>\n",
       "    <tr>\n",
       "      <th>83811</th>\n",
       "      <td>3466603167550</td>\n",
       "      <td>ACC_UN</td>\n",
       "      <td>1.421341</td>\n",
       "      <td>8.877365</td>\n",
       "      <td>-0.959518</td>\n",
       "      <td>0.000000</td>\n",
       "      <td>0.000000</td>\n",
       "      <td>0.000000</td>\n",
       "    </tr>\n",
       "    <tr>\n",
       "      <th>83812</th>\n",
       "      <td>3466603167550</td>\n",
       "      <td>GYRO_UN</td>\n",
       "      <td>-0.185104</td>\n",
       "      <td>-0.128281</td>\n",
       "      <td>0.033585</td>\n",
       "      <td>0.007629</td>\n",
       "      <td>-0.009186</td>\n",
       "      <td>-0.007660</td>\n",
       "    </tr>\n",
       "    <tr>\n",
       "      <th>83813</th>\n",
       "      <td>3466599017160</td>\n",
       "      <td>BARO</td>\n",
       "      <td>978.605600</td>\n",
       "      <td>NaN</td>\n",
       "      <td>NaN</td>\n",
       "      <td>NaN</td>\n",
       "      <td>NaN</td>\n",
       "      <td>NaN</td>\n",
       "    </tr>\n",
       "    <tr>\n",
       "      <th>83814</th>\n",
       "      <td>3466599017160</td>\n",
       "      <td>BAT_TEMP</td>\n",
       "      <td>26.000000</td>\n",
       "      <td>NaN</td>\n",
       "      <td>NaN</td>\n",
       "      <td>NaN</td>\n",
       "      <td>NaN</td>\n",
       "      <td>NaN</td>\n",
       "    </tr>\n",
       "    <tr>\n",
       "      <th>83815</th>\n",
       "      <td>3466601428048</td>\n",
       "      <td>MAG_UN</td>\n",
       "      <td>32.859802</td>\n",
       "      <td>-49.637222</td>\n",
       "      <td>-6.969452</td>\n",
       "      <td>89.860535</td>\n",
       "      <td>-20.529175</td>\n",
       "      <td>28.340149</td>\n",
       "    </tr>\n",
       "    <tr>\n",
       "      <th>83816</th>\n",
       "      <td>3466605608957</td>\n",
       "      <td>ACC_UN</td>\n",
       "      <td>1.282547</td>\n",
       "      <td>9.250656</td>\n",
       "      <td>-0.806381</td>\n",
       "      <td>0.000000</td>\n",
       "      <td>0.000000</td>\n",
       "      <td>0.000000</td>\n",
       "    </tr>\n",
       "    <tr>\n",
       "      <th>83817</th>\n",
       "      <td>3466605608957</td>\n",
       "      <td>GYRO_UN</td>\n",
       "      <td>-0.204651</td>\n",
       "      <td>-0.120346</td>\n",
       "      <td>0.042130</td>\n",
       "      <td>0.007629</td>\n",
       "      <td>-0.009186</td>\n",
       "      <td>-0.007660</td>\n",
       "    </tr>\n",
       "    <tr>\n",
       "      <th>83818</th>\n",
       "      <td>3466608080880</td>\n",
       "      <td>ACC_UN</td>\n",
       "      <td>1.074371</td>\n",
       "      <td>9.860825</td>\n",
       "      <td>-1.158127</td>\n",
       "      <td>0.000000</td>\n",
       "      <td>0.000000</td>\n",
       "      <td>0.000000</td>\n",
       "    </tr>\n",
       "    <tr>\n",
       "      <th>83819</th>\n",
       "      <td>3466608080880</td>\n",
       "      <td>GYRO_UN</td>\n",
       "      <td>-0.216248</td>\n",
       "      <td>-0.105072</td>\n",
       "      <td>0.063522</td>\n",
       "      <td>0.007629</td>\n",
       "      <td>-0.009186</td>\n",
       "      <td>-0.007660</td>\n",
       "    </tr>\n",
       "    <tr>\n",
       "      <th>83820</th>\n",
       "      <td>3466610552804</td>\n",
       "      <td>ACC_UN</td>\n",
       "      <td>1.289734</td>\n",
       "      <td>10.028320</td>\n",
       "      <td>-0.512070</td>\n",
       "      <td>0.000000</td>\n",
       "      <td>0.000000</td>\n",
       "      <td>0.000000</td>\n",
       "    </tr>\n",
       "    <tr>\n",
       "      <th>83821</th>\n",
       "      <td>3466610552804</td>\n",
       "      <td>GYRO_UN</td>\n",
       "      <td>-0.224808</td>\n",
       "      <td>-0.126450</td>\n",
       "      <td>0.094681</td>\n",
       "      <td>0.007629</td>\n",
       "      <td>-0.009186</td>\n",
       "      <td>-0.007660</td>\n",
       "    </tr>\n",
       "    <tr>\n",
       "      <th>83822</th>\n",
       "      <td>3466612994211</td>\n",
       "      <td>ACC_UN</td>\n",
       "      <td>1.569687</td>\n",
       "      <td>9.963715</td>\n",
       "      <td>-0.040680</td>\n",
       "      <td>0.000000</td>\n",
       "      <td>0.000000</td>\n",
       "      <td>0.000000</td>\n",
       "    </tr>\n",
       "    <tr>\n",
       "      <th>83823</th>\n",
       "      <td>3466612994211</td>\n",
       "      <td>GYRO_UN</td>\n",
       "      <td>-0.210754</td>\n",
       "      <td>-0.132568</td>\n",
       "      <td>0.117889</td>\n",
       "      <td>0.007629</td>\n",
       "      <td>-0.009186</td>\n",
       "      <td>-0.007660</td>\n",
       "    </tr>\n",
       "    <tr>\n",
       "      <th>83824</th>\n",
       "      <td>3466615466134</td>\n",
       "      <td>ACC_UN</td>\n",
       "      <td>1.332809</td>\n",
       "      <td>10.112076</td>\n",
       "      <td>-0.555130</td>\n",
       "      <td>0.000000</td>\n",
       "      <td>0.000000</td>\n",
       "      <td>0.000000</td>\n",
       "    </tr>\n",
       "    <tr>\n",
       "      <th>83825</th>\n",
       "      <td>3466615466134</td>\n",
       "      <td>GYRO_UN</td>\n",
       "      <td>-0.189987</td>\n",
       "      <td>-0.103851</td>\n",
       "      <td>0.129486</td>\n",
       "      <td>0.007629</td>\n",
       "      <td>-0.009186</td>\n",
       "      <td>-0.007660</td>\n",
       "    </tr>\n",
       "    <tr>\n",
       "      <th>83826</th>\n",
       "      <td>3466617938058</td>\n",
       "      <td>ACC_UN</td>\n",
       "      <td>1.347153</td>\n",
       "      <td>9.863220</td>\n",
       "      <td>-1.038483</td>\n",
       "      <td>0.000000</td>\n",
       "      <td>0.000000</td>\n",
       "      <td>0.000000</td>\n",
       "    </tr>\n",
       "    <tr>\n",
       "      <th>83827</th>\n",
       "      <td>3466617938058</td>\n",
       "      <td>GYRO_UN</td>\n",
       "      <td>-0.177765</td>\n",
       "      <td>-0.092239</td>\n",
       "      <td>0.147217</td>\n",
       "      <td>0.007629</td>\n",
       "      <td>-0.009186</td>\n",
       "      <td>-0.007660</td>\n",
       "    </tr>\n",
       "    <tr>\n",
       "      <th>83828</th>\n",
       "      <td>3466620379464</td>\n",
       "      <td>ACC_UN</td>\n",
       "      <td>1.351944</td>\n",
       "      <td>9.946960</td>\n",
       "      <td>-0.612564</td>\n",
       "      <td>0.000000</td>\n",
       "      <td>0.000000</td>\n",
       "      <td>0.000000</td>\n",
       "    </tr>\n",
       "    <tr>\n",
       "      <th>83829</th>\n",
       "      <td>3466620379464</td>\n",
       "      <td>GYRO_UN</td>\n",
       "      <td>-0.167374</td>\n",
       "      <td>-0.099579</td>\n",
       "      <td>0.156982</td>\n",
       "      <td>0.007629</td>\n",
       "      <td>-0.009186</td>\n",
       "      <td>-0.007660</td>\n",
       "    </tr>\n",
       "    <tr>\n",
       "      <th>83830</th>\n",
       "      <td>3466622851388</td>\n",
       "      <td>ACC_UN</td>\n",
       "      <td>1.519440</td>\n",
       "      <td>9.745972</td>\n",
       "      <td>-0.227325</td>\n",
       "      <td>0.000000</td>\n",
       "      <td>0.000000</td>\n",
       "      <td>0.000000</td>\n",
       "    </tr>\n",
       "    <tr>\n",
       "      <th>83831</th>\n",
       "      <td>3466622851388</td>\n",
       "      <td>GYRO_UN</td>\n",
       "      <td>-0.144165</td>\n",
       "      <td>-0.062317</td>\n",
       "      <td>0.161865</td>\n",
       "      <td>0.007629</td>\n",
       "      <td>-0.009186</td>\n",
       "      <td>-0.007660</td>\n",
       "    </tr>\n",
       "    <tr>\n",
       "      <th>83832</th>\n",
       "      <td>3466621386545</td>\n",
       "      <td>MAG_UN</td>\n",
       "      <td>33.129501</td>\n",
       "      <td>-49.517441</td>\n",
       "      <td>-6.895447</td>\n",
       "      <td>89.860535</td>\n",
       "      <td>-20.529175</td>\n",
       "      <td>28.340149</td>\n",
       "    </tr>\n",
       "    <tr>\n",
       "      <th>83833</th>\n",
       "      <td>3466625292795</td>\n",
       "      <td>ACC_UN</td>\n",
       "      <td>1.485947</td>\n",
       "      <td>9.796219</td>\n",
       "      <td>-0.361313</td>\n",
       "      <td>0.000000</td>\n",
       "      <td>0.000000</td>\n",
       "      <td>0.000000</td>\n",
       "    </tr>\n",
       "    <tr>\n",
       "      <th>83834</th>\n",
       "      <td>3466625292795</td>\n",
       "      <td>GYRO_UN</td>\n",
       "      <td>-0.113617</td>\n",
       "      <td>-0.046432</td>\n",
       "      <td>0.158203</td>\n",
       "      <td>0.007629</td>\n",
       "      <td>-0.009186</td>\n",
       "      <td>-0.007660</td>\n",
       "    </tr>\n",
       "    <tr>\n",
       "      <th>83835</th>\n",
       "      <td>3466627764718</td>\n",
       "      <td>ACC_UN</td>\n",
       "      <td>1.548157</td>\n",
       "      <td>9.473190</td>\n",
       "      <td>-0.574280</td>\n",
       "      <td>0.000000</td>\n",
       "      <td>0.000000</td>\n",
       "      <td>0.000000</td>\n",
       "    </tr>\n",
       "    <tr>\n",
       "      <th>83836</th>\n",
       "      <td>3466627764718</td>\n",
       "      <td>GYRO_UN</td>\n",
       "      <td>-0.084305</td>\n",
       "      <td>-0.035431</td>\n",
       "      <td>0.153320</td>\n",
       "      <td>0.007629</td>\n",
       "      <td>-0.009186</td>\n",
       "      <td>-0.007660</td>\n",
       "    </tr>\n",
       "    <tr>\n",
       "      <th>83837</th>\n",
       "      <td>3466630236642</td>\n",
       "      <td>ACC_UN</td>\n",
       "      <td>1.471588</td>\n",
       "      <td>9.645462</td>\n",
       "      <td>-1.019348</td>\n",
       "      <td>0.000000</td>\n",
       "      <td>0.000000</td>\n",
       "      <td>0.000000</td>\n",
       "    </tr>\n",
       "    <tr>\n",
       "      <th>83838</th>\n",
       "      <td>3466630236642</td>\n",
       "      <td>GYRO_UN</td>\n",
       "      <td>-0.062317</td>\n",
       "      <td>-0.014664</td>\n",
       "      <td>0.141098</td>\n",
       "      <td>0.007629</td>\n",
       "      <td>-0.009186</td>\n",
       "      <td>-0.007660</td>\n",
       "    </tr>\n",
       "    <tr>\n",
       "      <th>83839</th>\n",
       "      <td>3466632678048</td>\n",
       "      <td>ACC_UN</td>\n",
       "      <td>1.596008</td>\n",
       "      <td>9.245865</td>\n",
       "      <td>-0.308670</td>\n",
       "      <td>0.000000</td>\n",
       "      <td>0.000000</td>\n",
       "      <td>0.000000</td>\n",
       "    </tr>\n",
       "    <tr>\n",
       "      <th>83840</th>\n",
       "      <td>3466632678048</td>\n",
       "      <td>GYRO_UN</td>\n",
       "      <td>-0.040924</td>\n",
       "      <td>0.008545</td>\n",
       "      <td>0.128265</td>\n",
       "      <td>0.007629</td>\n",
       "      <td>-0.009186</td>\n",
       "      <td>-0.007660</td>\n",
       "    </tr>\n",
       "  </tbody>\n",
       "</table>\n",
       "<p>83841 rows × 8 columns</p>\n",
       "</div>"
      ],
      "text/plain": [
       "                   0          1           2          3         4          5  \\\n",
       "0      3375711196038     MAG_UN   28.230286 -72.283936  4.257202  89.860535   \n",
       "1      3375740706536     MAG_UN   27.156830 -72.539520  4.483795  89.860535   \n",
       "2      3375750228021     ACC_UN    0.143570   9.762711 -0.703491   0.000000   \n",
       "3      3375752730462     ACC_UN    0.148361   9.731613 -0.720245   0.000000   \n",
       "4      3375751357171     MAG_UN   27.070108 -72.123207  3.717041  89.860535   \n",
       "5      3375755202386     ACC_UN    0.143570   9.743576 -0.686737   0.000000   \n",
       "6      3375757674310     ACC_UN    0.095718   9.798615 -0.713058   0.000000   \n",
       "7      3375760146234     ACC_UN    0.095718   9.791428 -0.631699   0.000000   \n",
       "8      3375762618158     ACC_UN    0.112457   9.817749 -0.691528   0.000000   \n",
       "9      3375765090081     ACC_UN    0.105286   9.839294 -0.655640   0.000000   \n",
       "10     3375767562005     ACC_UN    0.134003   9.791428 -0.701096   0.000000   \n",
       "11     3375770033929     ACC_UN    0.114853   9.789032 -0.643677   0.000000   \n",
       "12     3375772505853     ACC_UN    0.107681   9.789032 -0.705887   0.000000   \n",
       "13     3375754561517       BARO  979.042240        NaN       NaN        NaN   \n",
       "14     3375754561517   BAT_TEMP   26.000000        NaN       NaN        NaN   \n",
       "15     3375771376702     MAG_UN   26.562119 -72.188950  3.594208  89.860535   \n",
       "16     3375774947259     ACC_UN    0.100494   9.800995 -0.698700   0.000000   \n",
       "17     3375777388665     ACC_UN    0.098099   9.779465 -0.689133   0.000000   \n",
       "18     3375779830072     ACC_UN    0.126816   9.791428 -0.674774   0.000000   \n",
       "19     3375782271478     ACC_UN    0.141174   9.803391 -0.748947   0.000000   \n",
       "20     3375784743402     ACC_UN    0.122040   9.820145 -0.660416   0.000000   \n",
       "21     3375787215325     ACC_UN    0.102890   9.822540 -0.643677   0.000000   \n",
       "22     3375789656732     ACC_UN    0.107681   9.812973 -0.770493   0.000000   \n",
       "23     3375792128656     ACC_UN    0.122040   9.820145 -0.655640   0.000000   \n",
       "24     3375787886712       BARO  978.333600        NaN       NaN        NaN   \n",
       "25     3375787886712   BAT_TEMP   26.000000        NaN       NaN        NaN   \n",
       "26     3375794570062     ACC_UN    0.124420   9.786652 -0.705887   0.000000   \n",
       "27     3375791701409     MAG_UN   26.213455 -72.385406  3.520966  89.860535   \n",
       "28     3375797041986     ACC_UN    0.119644   9.738785 -0.679565   0.000000   \n",
       "29     3375799513909     ACC_UN    0.122040   9.803391 -0.713058   0.000000   \n",
       "...              ...        ...         ...        ...       ...        ...   \n",
       "83811  3466603167550     ACC_UN    1.421341   8.877365 -0.959518   0.000000   \n",
       "83812  3466603167550    GYRO_UN   -0.185104  -0.128281  0.033585   0.007629   \n",
       "83813  3466599017160       BARO  978.605600        NaN       NaN        NaN   \n",
       "83814  3466599017160   BAT_TEMP   26.000000        NaN       NaN        NaN   \n",
       "83815  3466601428048     MAG_UN   32.859802 -49.637222 -6.969452  89.860535   \n",
       "83816  3466605608957     ACC_UN    1.282547   9.250656 -0.806381   0.000000   \n",
       "83817  3466605608957    GYRO_UN   -0.204651  -0.120346  0.042130   0.007629   \n",
       "83818  3466608080880     ACC_UN    1.074371   9.860825 -1.158127   0.000000   \n",
       "83819  3466608080880    GYRO_UN   -0.216248  -0.105072  0.063522   0.007629   \n",
       "83820  3466610552804     ACC_UN    1.289734  10.028320 -0.512070   0.000000   \n",
       "83821  3466610552804    GYRO_UN   -0.224808  -0.126450  0.094681   0.007629   \n",
       "83822  3466612994211     ACC_UN    1.569687   9.963715 -0.040680   0.000000   \n",
       "83823  3466612994211    GYRO_UN   -0.210754  -0.132568  0.117889   0.007629   \n",
       "83824  3466615466134     ACC_UN    1.332809  10.112076 -0.555130   0.000000   \n",
       "83825  3466615466134    GYRO_UN   -0.189987  -0.103851  0.129486   0.007629   \n",
       "83826  3466617938058     ACC_UN    1.347153   9.863220 -1.038483   0.000000   \n",
       "83827  3466617938058    GYRO_UN   -0.177765  -0.092239  0.147217   0.007629   \n",
       "83828  3466620379464     ACC_UN    1.351944   9.946960 -0.612564   0.000000   \n",
       "83829  3466620379464    GYRO_UN   -0.167374  -0.099579  0.156982   0.007629   \n",
       "83830  3466622851388     ACC_UN    1.519440   9.745972 -0.227325   0.000000   \n",
       "83831  3466622851388    GYRO_UN   -0.144165  -0.062317  0.161865   0.007629   \n",
       "83832  3466621386545     MAG_UN   33.129501 -49.517441 -6.895447  89.860535   \n",
       "83833  3466625292795     ACC_UN    1.485947   9.796219 -0.361313   0.000000   \n",
       "83834  3466625292795    GYRO_UN   -0.113617  -0.046432  0.158203   0.007629   \n",
       "83835  3466627764718     ACC_UN    1.548157   9.473190 -0.574280   0.000000   \n",
       "83836  3466627764718    GYRO_UN   -0.084305  -0.035431  0.153320   0.007629   \n",
       "83837  3466630236642     ACC_UN    1.471588   9.645462 -1.019348   0.000000   \n",
       "83838  3466630236642    GYRO_UN   -0.062317  -0.014664  0.141098   0.007629   \n",
       "83839  3466632678048     ACC_UN    1.596008   9.245865 -0.308670   0.000000   \n",
       "83840  3466632678048    GYRO_UN   -0.040924   0.008545  0.128265   0.007629   \n",
       "\n",
       "               6          7  \n",
       "0     -20.529175  28.340149  \n",
       "1     -20.529175  28.340149  \n",
       "2       0.000000   0.000000  \n",
       "3       0.000000   0.000000  \n",
       "4     -20.529175  28.340149  \n",
       "5       0.000000   0.000000  \n",
       "6       0.000000   0.000000  \n",
       "7       0.000000   0.000000  \n",
       "8       0.000000   0.000000  \n",
       "9       0.000000   0.000000  \n",
       "10      0.000000   0.000000  \n",
       "11      0.000000   0.000000  \n",
       "12      0.000000   0.000000  \n",
       "13           NaN        NaN  \n",
       "14           NaN        NaN  \n",
       "15    -20.529175  28.340149  \n",
       "16      0.000000   0.000000  \n",
       "17      0.000000   0.000000  \n",
       "18      0.000000   0.000000  \n",
       "19      0.000000   0.000000  \n",
       "20      0.000000   0.000000  \n",
       "21      0.000000   0.000000  \n",
       "22      0.000000   0.000000  \n",
       "23      0.000000   0.000000  \n",
       "24           NaN        NaN  \n",
       "25           NaN        NaN  \n",
       "26      0.000000   0.000000  \n",
       "27    -20.529175  28.340149  \n",
       "28      0.000000   0.000000  \n",
       "29      0.000000   0.000000  \n",
       "...          ...        ...  \n",
       "83811   0.000000   0.000000  \n",
       "83812  -0.009186  -0.007660  \n",
       "83813        NaN        NaN  \n",
       "83814        NaN        NaN  \n",
       "83815 -20.529175  28.340149  \n",
       "83816   0.000000   0.000000  \n",
       "83817  -0.009186  -0.007660  \n",
       "83818   0.000000   0.000000  \n",
       "83819  -0.009186  -0.007660  \n",
       "83820   0.000000   0.000000  \n",
       "83821  -0.009186  -0.007660  \n",
       "83822   0.000000   0.000000  \n",
       "83823  -0.009186  -0.007660  \n",
       "83824   0.000000   0.000000  \n",
       "83825  -0.009186  -0.007660  \n",
       "83826   0.000000   0.000000  \n",
       "83827  -0.009186  -0.007660  \n",
       "83828   0.000000   0.000000  \n",
       "83829  -0.009186  -0.007660  \n",
       "83830   0.000000   0.000000  \n",
       "83831  -0.009186  -0.007660  \n",
       "83832 -20.529175  28.340149  \n",
       "83833   0.000000   0.000000  \n",
       "83834  -0.009186  -0.007660  \n",
       "83835   0.000000   0.000000  \n",
       "83836  -0.009186  -0.007660  \n",
       "83837   0.000000   0.000000  \n",
       "83838  -0.009186  -0.007660  \n",
       "83839   0.000000   0.000000  \n",
       "83840  -0.009186  -0.007660  \n",
       "\n",
       "[83841 rows x 8 columns]"
      ]
     },
     "execution_count": 4,
     "metadata": {},
     "output_type": "execute_result"
    }
   ],
   "source": [
    "T_acc"
   ]
  },
  {
   "cell_type": "markdown",
   "metadata": {},
   "source": [
    "### T_mg "
   ]
  },
  {
   "cell_type": "code",
   "execution_count": 5,
   "metadata": {},
   "outputs": [
    {
     "ename": "IOError",
     "evalue": "File data/Asyn2/Tmag.csv does not exist",
     "output_type": "error",
     "traceback": [
      "\u001b[0;31m---------------------------------------------------------------------------\u001b[0m",
      "\u001b[0;31mIOError\u001b[0m                                   Traceback (most recent call last)",
      "\u001b[0;32m<ipython-input-5-190d8d5e5191>\u001b[0m in \u001b[0;36m<module>\u001b[0;34m()\u001b[0m\n\u001b[1;32m      1\u001b[0m \u001b[0;31m# Sampling Interval for Mag/Gyro\u001b[0m\u001b[0;34m\u001b[0m\u001b[0;34m\u001b[0m\u001b[0m\n\u001b[0;32m----> 2\u001b[0;31m \u001b[0mT_mg\u001b[0m \u001b[0;34m=\u001b[0m \u001b[0mpd\u001b[0m\u001b[0;34m.\u001b[0m\u001b[0mread_csv\u001b[0m\u001b[0;34m(\u001b[0m\u001b[0;34m'data/Asyn2/Tmag.csv'\u001b[0m\u001b[0;34m,\u001b[0m \u001b[0mheader\u001b[0m \u001b[0;34m=\u001b[0m \u001b[0mNone\u001b[0m\u001b[0;34m,\u001b[0m \u001b[0mindex_col\u001b[0m \u001b[0;34m=\u001b[0m \u001b[0mNone\u001b[0m\u001b[0;34m)\u001b[0m\u001b[0;34m.\u001b[0m\u001b[0mvalues\u001b[0m\u001b[0;34m[\u001b[0m\u001b[0;36m0\u001b[0m\u001b[0;34m]\u001b[0m\u001b[0;34m[\u001b[0m\u001b[0;36m0\u001b[0m\u001b[0;34m:\u001b[0m\u001b[0;36m1408\u001b[0m\u001b[0;34m]\u001b[0m\u001b[0;34m\u001b[0m\u001b[0m\n\u001b[0m",
      "\u001b[0;32m/Library/Frameworks/Python.framework/Versions/2.7/lib/python2.7/site-packages/pandas/io/parsers.pyc\u001b[0m in \u001b[0;36mparser_f\u001b[0;34m(filepath_or_buffer, sep, delimiter, header, names, index_col, usecols, squeeze, prefix, mangle_dupe_cols, dtype, engine, converters, true_values, false_values, skipinitialspace, skiprows, nrows, na_values, keep_default_na, na_filter, verbose, skip_blank_lines, parse_dates, infer_datetime_format, keep_date_col, date_parser, dayfirst, iterator, chunksize, compression, thousands, decimal, lineterminator, quotechar, quoting, escapechar, comment, encoding, dialect, tupleize_cols, error_bad_lines, warn_bad_lines, skipfooter, skip_footer, doublequote, delim_whitespace, as_recarray, compact_ints, use_unsigned, low_memory, buffer_lines, memory_map, float_precision)\u001b[0m\n\u001b[1;32m    707\u001b[0m                     skip_blank_lines=skip_blank_lines)\n\u001b[1;32m    708\u001b[0m \u001b[0;34m\u001b[0m\u001b[0m\n\u001b[0;32m--> 709\u001b[0;31m         \u001b[0;32mreturn\u001b[0m \u001b[0m_read\u001b[0m\u001b[0;34m(\u001b[0m\u001b[0mfilepath_or_buffer\u001b[0m\u001b[0;34m,\u001b[0m \u001b[0mkwds\u001b[0m\u001b[0;34m)\u001b[0m\u001b[0;34m\u001b[0m\u001b[0m\n\u001b[0m\u001b[1;32m    710\u001b[0m \u001b[0;34m\u001b[0m\u001b[0m\n\u001b[1;32m    711\u001b[0m     \u001b[0mparser_f\u001b[0m\u001b[0;34m.\u001b[0m\u001b[0m__name__\u001b[0m \u001b[0;34m=\u001b[0m \u001b[0mname\u001b[0m\u001b[0;34m\u001b[0m\u001b[0m\n",
      "\u001b[0;32m/Library/Frameworks/Python.framework/Versions/2.7/lib/python2.7/site-packages/pandas/io/parsers.pyc\u001b[0m in \u001b[0;36m_read\u001b[0;34m(filepath_or_buffer, kwds)\u001b[0m\n\u001b[1;32m    447\u001b[0m \u001b[0;34m\u001b[0m\u001b[0m\n\u001b[1;32m    448\u001b[0m     \u001b[0;31m# Create the parser.\u001b[0m\u001b[0;34m\u001b[0m\u001b[0;34m\u001b[0m\u001b[0m\n\u001b[0;32m--> 449\u001b[0;31m     \u001b[0mparser\u001b[0m \u001b[0;34m=\u001b[0m \u001b[0mTextFileReader\u001b[0m\u001b[0;34m(\u001b[0m\u001b[0mfilepath_or_buffer\u001b[0m\u001b[0;34m,\u001b[0m \u001b[0;34m**\u001b[0m\u001b[0mkwds\u001b[0m\u001b[0;34m)\u001b[0m\u001b[0;34m\u001b[0m\u001b[0m\n\u001b[0m\u001b[1;32m    450\u001b[0m \u001b[0;34m\u001b[0m\u001b[0m\n\u001b[1;32m    451\u001b[0m     \u001b[0;32mif\u001b[0m \u001b[0mchunksize\u001b[0m \u001b[0;32mor\u001b[0m \u001b[0miterator\u001b[0m\u001b[0;34m:\u001b[0m\u001b[0;34m\u001b[0m\u001b[0m\n",
      "\u001b[0;32m/Library/Frameworks/Python.framework/Versions/2.7/lib/python2.7/site-packages/pandas/io/parsers.pyc\u001b[0m in \u001b[0;36m__init__\u001b[0;34m(self, f, engine, **kwds)\u001b[0m\n\u001b[1;32m    816\u001b[0m             \u001b[0mself\u001b[0m\u001b[0;34m.\u001b[0m\u001b[0moptions\u001b[0m\u001b[0;34m[\u001b[0m\u001b[0;34m'has_index_names'\u001b[0m\u001b[0;34m]\u001b[0m \u001b[0;34m=\u001b[0m \u001b[0mkwds\u001b[0m\u001b[0;34m[\u001b[0m\u001b[0;34m'has_index_names'\u001b[0m\u001b[0;34m]\u001b[0m\u001b[0;34m\u001b[0m\u001b[0m\n\u001b[1;32m    817\u001b[0m \u001b[0;34m\u001b[0m\u001b[0m\n\u001b[0;32m--> 818\u001b[0;31m         \u001b[0mself\u001b[0m\u001b[0;34m.\u001b[0m\u001b[0m_make_engine\u001b[0m\u001b[0;34m(\u001b[0m\u001b[0mself\u001b[0m\u001b[0;34m.\u001b[0m\u001b[0mengine\u001b[0m\u001b[0;34m)\u001b[0m\u001b[0;34m\u001b[0m\u001b[0m\n\u001b[0m\u001b[1;32m    819\u001b[0m \u001b[0;34m\u001b[0m\u001b[0m\n\u001b[1;32m    820\u001b[0m     \u001b[0;32mdef\u001b[0m \u001b[0mclose\u001b[0m\u001b[0;34m(\u001b[0m\u001b[0mself\u001b[0m\u001b[0;34m)\u001b[0m\u001b[0;34m:\u001b[0m\u001b[0;34m\u001b[0m\u001b[0m\n",
      "\u001b[0;32m/Library/Frameworks/Python.framework/Versions/2.7/lib/python2.7/site-packages/pandas/io/parsers.pyc\u001b[0m in \u001b[0;36m_make_engine\u001b[0;34m(self, engine)\u001b[0m\n\u001b[1;32m   1047\u001b[0m     \u001b[0;32mdef\u001b[0m \u001b[0m_make_engine\u001b[0m\u001b[0;34m(\u001b[0m\u001b[0mself\u001b[0m\u001b[0;34m,\u001b[0m \u001b[0mengine\u001b[0m\u001b[0;34m=\u001b[0m\u001b[0;34m'c'\u001b[0m\u001b[0;34m)\u001b[0m\u001b[0;34m:\u001b[0m\u001b[0;34m\u001b[0m\u001b[0m\n\u001b[1;32m   1048\u001b[0m         \u001b[0;32mif\u001b[0m \u001b[0mengine\u001b[0m \u001b[0;34m==\u001b[0m \u001b[0;34m'c'\u001b[0m\u001b[0;34m:\u001b[0m\u001b[0;34m\u001b[0m\u001b[0m\n\u001b[0;32m-> 1049\u001b[0;31m             \u001b[0mself\u001b[0m\u001b[0;34m.\u001b[0m\u001b[0m_engine\u001b[0m \u001b[0;34m=\u001b[0m \u001b[0mCParserWrapper\u001b[0m\u001b[0;34m(\u001b[0m\u001b[0mself\u001b[0m\u001b[0;34m.\u001b[0m\u001b[0mf\u001b[0m\u001b[0;34m,\u001b[0m \u001b[0;34m**\u001b[0m\u001b[0mself\u001b[0m\u001b[0;34m.\u001b[0m\u001b[0moptions\u001b[0m\u001b[0;34m)\u001b[0m\u001b[0;34m\u001b[0m\u001b[0m\n\u001b[0m\u001b[1;32m   1050\u001b[0m         \u001b[0;32melse\u001b[0m\u001b[0;34m:\u001b[0m\u001b[0;34m\u001b[0m\u001b[0m\n\u001b[1;32m   1051\u001b[0m             \u001b[0;32mif\u001b[0m \u001b[0mengine\u001b[0m \u001b[0;34m==\u001b[0m \u001b[0;34m'python'\u001b[0m\u001b[0;34m:\u001b[0m\u001b[0;34m\u001b[0m\u001b[0m\n",
      "\u001b[0;32m/Library/Frameworks/Python.framework/Versions/2.7/lib/python2.7/site-packages/pandas/io/parsers.pyc\u001b[0m in \u001b[0;36m__init__\u001b[0;34m(self, src, **kwds)\u001b[0m\n\u001b[1;32m   1693\u001b[0m         \u001b[0mkwds\u001b[0m\u001b[0;34m[\u001b[0m\u001b[0;34m'allow_leading_cols'\u001b[0m\u001b[0;34m]\u001b[0m \u001b[0;34m=\u001b[0m \u001b[0mself\u001b[0m\u001b[0;34m.\u001b[0m\u001b[0mindex_col\u001b[0m \u001b[0;32mis\u001b[0m \u001b[0;32mnot\u001b[0m \u001b[0mFalse\u001b[0m\u001b[0;34m\u001b[0m\u001b[0m\n\u001b[1;32m   1694\u001b[0m \u001b[0;34m\u001b[0m\u001b[0m\n\u001b[0;32m-> 1695\u001b[0;31m         \u001b[0mself\u001b[0m\u001b[0;34m.\u001b[0m\u001b[0m_reader\u001b[0m \u001b[0;34m=\u001b[0m \u001b[0mparsers\u001b[0m\u001b[0;34m.\u001b[0m\u001b[0mTextReader\u001b[0m\u001b[0;34m(\u001b[0m\u001b[0msrc\u001b[0m\u001b[0;34m,\u001b[0m \u001b[0;34m**\u001b[0m\u001b[0mkwds\u001b[0m\u001b[0;34m)\u001b[0m\u001b[0;34m\u001b[0m\u001b[0m\n\u001b[0m\u001b[1;32m   1696\u001b[0m \u001b[0;34m\u001b[0m\u001b[0m\n\u001b[1;32m   1697\u001b[0m         \u001b[0;31m# XXX\u001b[0m\u001b[0;34m\u001b[0m\u001b[0;34m\u001b[0m\u001b[0m\n",
      "\u001b[0;32mpandas/_libs/parsers.pyx\u001b[0m in \u001b[0;36mpandas._libs.parsers.TextReader.__cinit__\u001b[0;34m()\u001b[0m\n",
      "\u001b[0;32mpandas/_libs/parsers.pyx\u001b[0m in \u001b[0;36mpandas._libs.parsers.TextReader._setup_parser_source\u001b[0;34m()\u001b[0m\n",
      "\u001b[0;31mIOError\u001b[0m: File data/Asyn2/Tmag.csv does not exist"
     ]
    }
   ],
   "source": [
    "# Sampling Interval for Mag/Gyro\n",
    "T_mg = pd.read_csv('data/Asyn2/Tmag.csv', header = None, index_col = None).values[0][0:1408]"
   ]
  },
  {
   "cell_type": "markdown",
   "metadata": {},
   "source": [
    "## 2. Tima Stamp for Plots "
   ]
  },
  {
   "cell_type": "code",
   "execution_count": 347,
   "metadata": {
    "scrolled": true
   },
   "outputs": [],
   "source": [
    "# TimeStamp for Acceleration\n",
    "t_acc = pd.read_csv('data/Asyn2/tdacc.csv', header = None, index_col = None).values[0][0:1408]"
   ]
  },
  {
   "cell_type": "code",
   "execution_count": 348,
   "metadata": {},
   "outputs": [],
   "source": [
    "# TimeStamp for Mag/Gyro\n",
    "t_mg = pd.read_csv('data/Asyn2/tdmag.csv', header = None, index_col = None).values[0][0:1408]"
   ]
  },
  {
   "cell_type": "code",
   "execution_count": 349,
   "metadata": {},
   "outputs": [],
   "source": [
    "# TimeStamp for Integrate\n",
    "t = pd.read_csv('data/Asyn2/td3.csv', header = None, index_col = None).values[0][0:2813]"
   ]
  },
  {
   "cell_type": "code",
   "execution_count": 354,
   "metadata": {},
   "outputs": [
    {
     "data": {
      "text/plain": [
       "2813"
      ]
     },
     "execution_count": 354,
     "metadata": {},
     "output_type": "execute_result"
    }
   ],
   "source": [
    "len(T)"
   ]
  },
  {
   "cell_type": "code",
   "execution_count": 351,
   "metadata": {},
   "outputs": [],
   "source": [
    "for i in range(2,2799):\n",
    "    T[i] = t[i] - t[i-1]"
   ]
  },
  {
   "cell_type": "code",
   "execution_count": 352,
   "metadata": {},
   "outputs": [],
   "source": [
    "# Time Interval for Integrate\n",
    "T = pd.read_csv('data/Asyn2/T3.csv', header = None, index_col = None).values[0][0:2813]"
   ]
  },
  {
   "cell_type": "code",
   "execution_count": 353,
   "metadata": {},
   "outputs": [
    {
     "data": {
      "text/plain": [
       "array([1.0e+00, 0.0e+00, 0.0e+00, ..., 1.6e-04, 1.3e-03, 1.2e-04])"
      ]
     },
     "execution_count": 353,
     "metadata": {},
     "output_type": "execute_result"
    }
   ],
   "source": [
    "T"
   ]
  },
  {
   "cell_type": "markdown",
   "metadata": {},
   "source": [
    "## 4. Ground Truth "
   ]
  },
  {
   "cell_type": "code",
   "execution_count": 355,
   "metadata": {},
   "outputs": [],
   "source": [
    "# Ground truth for acc along x axis\n",
    "gt_accx = pd.read_csv('data/Asyn2/gtaccx.csv', header = None, index_col = None).values[0][0:2813]\n",
    "# Ground truth for acc along y axis\n",
    "gt_accy = pd.read_csv('data/Asyn2/gtaccy.csv', header = None, index_col = None).values[0][0:2813]\n",
    "# Ground truth for velocity along x axis\n",
    "gt_velx = pd.read_csv('data/Asyn2/gtxv.csv', header = None, index_col = None).values[0][0:2813]\n",
    "# Ground truth for velocity along y axis\n",
    "gt_vely = pd.read_csv('data/Asyn2/gtyv.csv', header = None, index_col = None).values[0][0:2813]\n",
    "# Ground truth for pos along x axis\n",
    "gt_x = pd.read_csv('data/Asyn2/gtx.csv', header = None, index_col = None).values[0][0:2813] - 1.95\n",
    "# Ground truth for pos along y axis\n",
    "gt_y = pd.read_csv('data/Asyn2/gty.csv', header = None, index_col = None).values[0][0:2813] -  1.81\n",
    "# Ground truth for orientation\n",
    "gt_w = pd.read_csv('data/Asyn2/gtw.csv', header = None, index_col = None).values[0][0:2813]"
   ]
  },
  {
   "cell_type": "code",
   "execution_count": 356,
   "metadata": {},
   "outputs": [
    {
     "data": {
      "text/plain": [
       "2813"
      ]
     },
     "execution_count": 356,
     "metadata": {},
     "output_type": "execute_result"
    }
   ],
   "source": [
    "len(gt_accx)"
   ]
  },
  {
   "cell_type": "markdown",
   "metadata": {},
   "source": [
    "## 3. Estimation Results "
   ]
  },
  {
   "cell_type": "code",
   "execution_count": 357,
   "metadata": {},
   "outputs": [],
   "source": [
    "# Estimated acc along x axis\n",
    "accx = pd.read_csv('data/Asyn2/accx.csv', header = None, index_col = None).values[0][0:2813]"
   ]
  },
  {
   "cell_type": "code",
   "execution_count": 358,
   "metadata": {},
   "outputs": [],
   "source": [
    "# Estimated acc along y axis\n",
    "accy = pd.read_csv('data/Asyn2/accy.csv', header = None, index_col = None).values[0][0:2813]"
   ]
  },
  {
   "cell_type": "code",
   "execution_count": 359,
   "metadata": {},
   "outputs": [],
   "source": [
    "# Estimated orientation along z axis\n",
    "w = pd.read_csv('data/Asyn2/w.csv', header = None, index_col = None).values[0][0:2813]"
   ]
  },
  {
   "cell_type": "code",
   "execution_count": 360,
   "metadata": {},
   "outputs": [
    {
     "data": {
      "text/plain": [
       "2813"
      ]
     },
     "execution_count": 360,
     "metadata": {},
     "output_type": "execute_result"
    }
   ],
   "source": [
    "len(accx)"
   ]
  },
  {
   "cell_type": "markdown",
   "metadata": {},
   "source": [
    "## 4. Comparision of Estimated Acceleration vs Ground Truth"
   ]
  },
  {
   "cell_type": "code",
   "execution_count": 6,
   "metadata": {
    "scrolled": true
   },
   "outputs": [
    {
     "ename": "NameError",
     "evalue": "name 't' is not defined",
     "output_type": "error",
     "traceback": [
      "\u001b[0;31m---------------------------------------------------------------------------\u001b[0m",
      "\u001b[0;31mNameError\u001b[0m                                 Traceback (most recent call last)",
      "\u001b[0;32m<ipython-input-6-a1f70c604b0f>\u001b[0m in \u001b[0;36m<module>\u001b[0;34m()\u001b[0m\n\u001b[1;32m      1\u001b[0m \u001b[0mplt\u001b[0m\u001b[0;34m.\u001b[0m\u001b[0msubplot\u001b[0m\u001b[0;34m(\u001b[0m\u001b[0;36m121\u001b[0m\u001b[0;34m)\u001b[0m\u001b[0;34m\u001b[0m\u001b[0m\n\u001b[0;32m----> 2\u001b[0;31m \u001b[0mplt\u001b[0m\u001b[0;34m.\u001b[0m\u001b[0mplot\u001b[0m\u001b[0;34m(\u001b[0m\u001b[0mt\u001b[0m\u001b[0;34m,\u001b[0m \u001b[0maccx\u001b[0m\u001b[0;34m)\u001b[0m\u001b[0;34m\u001b[0m\u001b[0m\n\u001b[0m\u001b[1;32m      3\u001b[0m \u001b[0mplt\u001b[0m\u001b[0;34m.\u001b[0m\u001b[0mtitle\u001b[0m\u001b[0;34m(\u001b[0m\u001b[0;34m'estiamted accx'\u001b[0m\u001b[0;34m)\u001b[0m\u001b[0;34m\u001b[0m\u001b[0m\n\u001b[1;32m      4\u001b[0m \u001b[0mplt\u001b[0m\u001b[0;34m.\u001b[0m\u001b[0mxlabel\u001b[0m\u001b[0;34m(\u001b[0m\u001b[0;34m'time [s]'\u001b[0m\u001b[0;34m)\u001b[0m\u001b[0;34m\u001b[0m\u001b[0m\n\u001b[1;32m      5\u001b[0m \u001b[0mplt\u001b[0m\u001b[0;34m.\u001b[0m\u001b[0mylabel\u001b[0m\u001b[0;34m(\u001b[0m\u001b[0;34m'x acc [m/s^2]'\u001b[0m\u001b[0;34m)\u001b[0m\u001b[0;34m\u001b[0m\u001b[0m\n",
      "\u001b[0;31mNameError\u001b[0m: name 't' is not defined"
     ]
    },
    {
     "data": {
      "image/png": "[encoded data removed]",
      "text/plain": [
       "<matplotlib.figure.Figure at 0x114c1e710>"
      ]
     },
     "metadata": {},
     "output_type": "display_data"
    }
   ],
   "source": [
    "plt.subplot(121)\n",
    "plt.plot(t, accx)\n",
    "plt.title('estiamted accx')\n",
    "plt.xlabel('time [s]')\n",
    "plt.ylabel('x acc [m/s^2]')\n",
    "\n",
    "plt.subplot(122)\n",
    "plt.plot(t, gt_accx)\n",
    "plt.title('ground truth accx')\n",
    "plt.xlabel('time [s]')"
   ]
  },
  {
   "cell_type": "code",
   "execution_count": 362,
   "metadata": {},
   "outputs": [
    {
     "data": {
      "text/plain": [
       "Text(0.5,0,u'time [s]')"
      ]
     },
     "execution_count": 362,
     "metadata": {},
     "output_type": "execute_result"
    },
    {
     "data": {
      "image/png": "[encoded data removed]",
      "text/plain": [
       "<matplotlib.figure.Figure at 0x1275d9310>"
      ]
     },
     "metadata": {},
     "output_type": "display_data"
    }
   ],
   "source": [
    "plt.subplot(121)\n",
    "plt.plot(t, accy)\n",
    "plt.title('estiamted accy')\n",
    "plt.xlabel('time [s]')\n",
    "plt.ylabel('y acc [m/s^2]')\n",
    "\n",
    "plt.subplot(122)\n",
    "plt.plot(t, gt_accy)\n",
    "plt.title('ground truth accy')\n",
    "plt.xlabel('time [s]')"
   ]
  },
  {
   "cell_type": "markdown",
   "metadata": {},
   "source": [
    "# Double Integration"
   ]
  },
  {
   "cell_type": "markdown",
   "metadata": {},
   "source": [
    "$$v[i] = v[i-1] + \\hat{acc}[i-1]\\times T[i]$$"
   ]
  },
  {
   "cell_type": "markdown",
   "metadata": {},
   "source": [
    "$$p[i] = v[i] \\times T[i] + \\frac{1}{2}*\\hat{acc}[i] \\times T[i]^2$$"
   ]
  },
  {
   "cell_type": "markdown",
   "metadata": {},
   "source": [
    "## 1. x pos "
   ]
  },
  {
   "cell_type": "markdown",
   "metadata": {},
   "source": [
    "### 1.1 Double Integration of Estimated Acceleration"
   ]
  },
  {
   "cell_type": "code",
   "execution_count": 363,
   "metadata": {},
   "outputs": [],
   "source": [
    "xx = np.zeros(2813)\n",
    "vx = np.zeros(2813)\n",
    "vx[0] = -0.3*3.14\n",
    "vx[1] = -0.3*3.14 #accx[1]*T_acc[1]\n",
    "xx[1] = 0.5*accx[1]*T[1]**2\n",
    "\n",
    "for i in range(2,2813):\n",
    "    vx[i] = accx[i-1]*T[i] + vx[i-1]\n",
    "    xx[i] = vx[i]*T[i] + 0.5*accx[i]*T[i]**2 + xx[i-1]"
   ]
  },
  {
   "cell_type": "markdown",
   "metadata": {},
   "source": [
    "### 1.2 Double Integartion of Ground Truth Acceleration"
   ]
  },
  {
   "cell_type": "code",
   "execution_count": 364,
   "metadata": {},
   "outputs": [],
   "source": [
    "gxx = np.zeros(2813)\n",
    "gvx = np.zeros(2813)\n",
    "gvx[0] = -0.3*3.14\n",
    "gvx[1] = -0.3*3.14#gt_accx[1]*T_acc[1]\n",
    "gxx[1] = 0.5*gt_accx[1]*T[1]**2\n",
    "\n",
    "for i in range(2,2813):\n",
    "    gvx[i] = gt_accx[i-1]*T[i] + gvx[i-1]\n",
    "    gxx[i] = gvx[i]*T[i] + 0.5*gt_accx[i]*T[i]**2 + gxx[i-1]"
   ]
  },
  {
   "cell_type": "markdown",
   "metadata": {},
   "source": [
    "### 1.3 Comparision of x Position"
   ]
  },
  {
   "cell_type": "code",
   "execution_count": 365,
   "metadata": {},
   "outputs": [
    {
     "data": {
      "text/plain": [
       "Text(0.5,0,u'time [s]')"
      ]
     },
     "execution_count": 365,
     "metadata": {},
     "output_type": "execute_result"
    },
    {
     "data": {
      "image/png": "[encoded data removed]",
      "text/plain": [
       "<matplotlib.figure.Figure at 0x12761d9d0>"
      ]
     },
     "metadata": {},
     "output_type": "display_data"
    }
   ],
   "source": [
    "plt.figure()\n",
    "plt.plot(t,vx)\n",
    "plt.plot(t,gvx)\n",
    "plt.plot(t,gt_velx)\n",
    "plt.ylim([-1.5, 1.0])\n",
    "plt.legend(['estimated acc integrated velocity','ground truth acc integrated velocity','ground truth velocity'])\n",
    "plt.title('integrated velocity x axis')\n",
    "plt.ylabel('x velocity [m/s]')\n",
    "plt.xlabel('time [s]')"
   ]
  },
  {
   "cell_type": "code",
   "execution_count": 366,
   "metadata": {},
   "outputs": [
    {
     "data": {
      "text/plain": [
       "Text(0.5,0,u'time [s]')"
      ]
     },
     "execution_count": 366,
     "metadata": {},
     "output_type": "execute_result"
    },
    {
     "data": {
      "image/png": "[encoded data removed]",
      "text/plain": [
       "<matplotlib.figure.Figure at 0x12730a450>"
      ]
     },
     "metadata": {},
     "output_type": "display_data"
    }
   ],
   "source": [
    "plt.figure()\n",
    "plt.plot(t,xx)\n",
    "plt.plot(t,gxx)\n",
    "plt.plot(t,gt_x)\n",
    "plt.ylim([-.4, .5])\n",
    "plt.legend(['double integration position','ground truth acc double integration','ground truth acceleration'])\n",
    "plt.title('double integrated pos x axis')\n",
    "plt.ylabel('x position [m]')\n",
    "plt.xlabel('time [s]')"
   ]
  },
  {
   "cell_type": "markdown",
   "metadata": {},
   "source": [
    "## 2. y pos "
   ]
  },
  {
   "cell_type": "markdown",
   "metadata": {},
   "source": [
    "### 2.1 Double Integration of Estimated Acceleration"
   ]
  },
  {
   "cell_type": "code",
   "execution_count": 367,
   "metadata": {},
   "outputs": [],
   "source": [
    "yy = np.zeros(2813)\n",
    "vy = np.zeros(2813)\n",
    "for i in range(2,2813):\n",
    "    vy[i] = accy[i-1]*T[i] + vy[i-1]\n",
    "    yy[i] = vy[i]*T[i] + 0.5*accy[i]*T[i]**2 + yy[i-1]"
   ]
  },
  {
   "cell_type": "code",
   "execution_count": 368,
   "metadata": {},
   "outputs": [],
   "source": [
    "gyy = np.zeros(2813)\n",
    "gvy = np.zeros(2813)\n",
    "gvy[1] = gt_accy[1]*T_acc[1]\n",
    "\n",
    "for i in range(2,2813):\n",
    "    gvy[i] = gt_accy[i-1]*T[i] + gvy[i-1]\n",
    "    gyy[i] = gvy[i]*T[i] + 0.5*gt_accy[i]*T[i]**2 + gyy[i-1]"
   ]
  },
  {
   "cell_type": "code",
   "execution_count": 371,
   "metadata": {},
   "outputs": [
    {
     "data": {
      "text/plain": [
       "Text(0.5,0,u'time [s]')"
      ]
     },
     "execution_count": 371,
     "metadata": {},
     "output_type": "execute_result"
    },
    {
     "data": {
      "image/png": "[encoded data removed]",
      "text/plain": [
       "<matplotlib.figure.Figure at 0x127c6e690>"
      ]
     },
     "metadata": {},
     "output_type": "display_data"
    }
   ],
   "source": [
    "plt.plot()\n",
    "plt.plot(t,vy)\n",
    "plt.plot(t,gvy)\n",
    "plt.plot(t,gt_vely)\n",
    "plt.ylim([-1.0, 1.5])\n",
    "plt.legend(['estimated velocity','ground truth acc integration','ground truth velocity'])\n",
    "plt.title('integrated velocity y axis')\n",
    "plt.ylabel('y velocity [m/s]')\n",
    "plt.xlabel('time [s]')"
   ]
  },
  {
   "cell_type": "code",
   "execution_count": 370,
   "metadata": {},
   "outputs": [
    {
     "data": {
      "text/plain": [
       "Text(0.5,0,u'time [s]')"
      ]
     },
     "execution_count": 370,
     "metadata": {},
     "output_type": "execute_result"
    },
    {
     "data": {
      "image/png": "[encoded data removed]",
      "text/plain": [
       "<matplotlib.figure.Figure at 0x12807fa50>"
      ]
     },
     "metadata": {},
     "output_type": "display_data"
    }
   ],
   "source": [
    "plt.plot()\n",
    "plt.plot(t,yy)\n",
    "plt.plot(t,gyy)\n",
    "plt.plot(t,gt_y)\n",
    "plt.ylim([-.6, .1])\n",
    "plt.title('double integrated pos y axis')\n",
    "plt.legend(['double integration position','ground truth acc double integration','ground truth'])\n",
    "plt.ylabel('y position [m]')\n",
    "plt.xlabel('time [s]')"
   ]
  },
  {
   "cell_type": "markdown",
   "metadata": {},
   "source": [
    "## Visualization "
   ]
  },
  {
   "cell_type": "code",
   "execution_count": 372,
   "metadata": {},
   "outputs": [
    {
     "data": {
      "text/plain": [
       "Text(0,0.5,u'y [m]')"
      ]
     },
     "execution_count": 372,
     "metadata": {},
     "output_type": "execute_result"
    },
    {
     "data": {
      "image/png": "[encoded data removed]",
      "text/plain": [
       "<matplotlib.figure.Figure at 0x128262810>"
      ]
     },
     "metadata": {},
     "output_type": "display_data"
    }
   ],
   "source": [
    "import numpy as np\n",
    "import matplotlib.animation as animation\n",
    "fig = plt.figure()\n",
    "\n",
    "\n",
    "def main():\n",
    "    numframes = 1404\n",
    "    numpoints = 3\n",
    "    \n",
    "    scat = plt.scatter(xx, yy, s=4)\n",
    "    scat2 = plt.scatter(gxx, gyy, s=4)\n",
    "    scat3 = plt.scatter(gt_x, gt_y, s=4)\n",
    "\n",
    "    ani = animation.FuncAnimation(fig, update_plot, frames=xrange(numframes),fargs=(scat))\n",
    "    ani = animation.FuncAnimation(fig, update_plot, frames=xrange(numframes),fargs=(scat2))\n",
    "    ani = animation.FuncAnimation(fig, update_plot, frames=xrange(numframes),fargs=(scat3))\n",
    "    \n",
    "    plt.legend(['double integrated estimated acc','double integrated ground truth acc','ground truth'])\n",
    "    \n",
    "\n",
    "def update_plot(i, data, scat):\n",
    "    scat.set_array(data[i])\n",
    "    return scat,\n",
    "main()\n",
    "\n",
    "plt.scatter(xx[1],yy[1],c='purple')\n",
    "plt.scatter(xx[-1],yy[-1],c='purple')\n",
    "plt.scatter(gxx[-1],gyy[-1],c='orange')\n",
    "plt.scatter(gt_x[-1],gt_y[-1],c='green')\n",
    "plt.xlabel('x [m]')\n",
    "plt.ylabel('y [m]')"
   ]
  },
  {
   "cell_type": "markdown",
   "metadata": {},
   "source": [
    "# Indicators - How Good is the Estimation in Comparision "
   ]
  },
  {
   "cell_type": "markdown",
   "metadata": {},
   "source": [
    "## Position Error"
   ]
  },
  {
   "cell_type": "markdown",
   "metadata": {},
   "source": [
    "### 1. Same Point "
   ]
  },
  {
   "cell_type": "code",
   "execution_count": 373,
   "metadata": {},
   "outputs": [],
   "source": [
    "Distance_Error = np.sqrt((xx[-1] - xx[0])**2+(yy[-1] - yy[0])**2)"
   ]
  },
  {
   "cell_type": "code",
   "execution_count": 374,
   "metadata": {},
   "outputs": [
    {
     "data": {
      "text/plain": [
       "0.017558680598642247"
      ]
     },
     "execution_count": 374,
     "metadata": {},
     "output_type": "execute_result"
    }
   ],
   "source": [
    "Distance_Error"
   ]
  },
  {
   "cell_type": "code",
   "execution_count": 375,
   "metadata": {
    "scrolled": true
   },
   "outputs": [
    {
     "data": {
      "text/plain": [
       "Text(0.5,1,u'Position Error Based on Same Point')"
      ]
     },
     "execution_count": 375,
     "metadata": {},
     "output_type": "execute_result"
    },
    {
     "data": {
      "image/png": "[encoded data removed]",
      "text/plain": [
       "<matplotlib.figure.Figure at 0x128254e10>"
      ]
     },
     "metadata": {},
     "output_type": "display_data"
    }
   ],
   "source": [
    "xplot = [xx[1],xx[-1]]\n",
    "yplot = [yy[1],yy[-1]]\n",
    "plt.scatter(xplot[0],yplot[0],c='blue')\n",
    "plt.scatter(xplot[1],yplot[1],c='red')\n",
    "plt.legend(['Start point','End point'])\n",
    "plt.plot(xplot,yplot)\n",
    "plt.text(-0, 0, 'Position Error: 0.125 m', bbox=dict(facecolor='red', alpha=0.5))\n",
    "plt.xlabel('x [m]')\n",
    "plt.ylabel('y [m]')\n",
    "plt.title('Position Error Based on Same Point')"
   ]
  },
  {
   "cell_type": "markdown",
   "metadata": {},
   "source": [
    "### 2. Reference Line"
   ]
  },
  {
   "cell_type": "code",
   "execution_count": 376,
   "metadata": {},
   "outputs": [
    {
     "data": {
      "text/plain": [
       "array([ 0.        ,  0.        ,  0.        , ..., -0.01905334,\n",
       "       -0.02027758, -0.02039059])"
      ]
     },
     "execution_count": 376,
     "metadata": {},
     "output_type": "execute_result"
    }
   ],
   "source": [
    "gxx"
   ]
  },
  {
   "cell_type": "code",
   "execution_count": 377,
   "metadata": {},
   "outputs": [],
   "source": [
    "def maxDistance(xx, yy, rxx, ryy):\n",
    "    err = 0\n",
    "    err_dis = 0\n",
    "    distance = 0\n",
    "    \n",
    "    for i in range(len(xx)):\n",
    "        err += (xx[i]-rxx[i])**2+(yy[i]-ryy[i])**2\n",
    "        err_dis += err\n",
    "        \n",
    "        if i > 0:\n",
    "            distance += np.sqrt((rxx[i]-rxx[i-1])**2 + (ryy[i]-ryy[i-1])**2);\n",
    "        \n",
    "    err = np.sqrt(err/len(xx))\n",
    "    print('err', err)\n",
    "    print('ref', distance)\n",
    "    \n",
    "    return err"
   ]
  },
  {
   "cell_type": "markdown",
   "metadata": {},
   "source": [
    "## Result from Defined Function"
   ]
  },
  {
   "cell_type": "code",
   "execution_count": 378,
   "metadata": {},
   "outputs": [
    {
     "name": "stdout",
     "output_type": "stream",
     "text": [
      "('err', 0.006662363552364471)\n",
      "('ref', 1.8677440899663535)\n"
     ]
    }
   ],
   "source": [
    "error = maxDistance(xx, yy, gxx, gyy)"
   ]
  },
  {
   "cell_type": "markdown",
   "metadata": {},
   "source": [
    "## RMS Error from Built-in Function "
   ]
  },
  {
   "cell_type": "code",
   "execution_count": 379,
   "metadata": {},
   "outputs": [],
   "source": [
    "from sklearn.metrics import mean_squared_error\n",
    "from math import sqrt\n",
    "import math\n",
    "\n",
    "rms1 = sqrt(mean_squared_error(xx, gt_x))\n",
    "rms2 = sqrt(mean_squared_error(yy, gt_y))\n",
    "rms = sqrt(rms1**2 + rms2**2)"
   ]
  },
  {
   "cell_type": "code",
   "execution_count": 380,
   "metadata": {},
   "outputs": [
    {
     "data": {
      "text/plain": [
       "0.008649414830189809"
      ]
     },
     "execution_count": 380,
     "metadata": {},
     "output_type": "execute_result"
    }
   ],
   "source": [
    "rms"
   ]
  },
  {
   "cell_type": "markdown",
   "metadata": {},
   "source": [
    "## The RMS Error Start-End, Defined and Built-in Function all 0.05 m "
   ]
  },
  {
   "cell_type": "markdown",
   "metadata": {},
   "source": [
    "## Weighted RMS Error"
   ]
  },
  {
   "cell_type": "markdown",
   "metadata": {},
   "source": [
    "$$RMS_{Final} = a \\times RMS_{Reference} + (1-a) \\times RMS_{SamePoint}$$"
   ]
  },
  {
   "cell_type": "code",
   "execution_count": 381,
   "metadata": {},
   "outputs": [],
   "source": [
    "rms = 0.7*rms + 0.3*Distance_Error"
   ]
  },
  {
   "cell_type": "code",
   "execution_count": 382,
   "metadata": {},
   "outputs": [
    {
     "data": {
      "text/plain": [
       "0.01132219456072554"
      ]
     },
     "execution_count": 382,
     "metadata": {},
     "output_type": "execute_result"
    }
   ],
   "source": [
    "rms"
   ]
  },
  {
   "cell_type": "markdown",
   "metadata": {},
   "source": [
    "## Percentage"
   ]
  },
  {
   "cell_type": "code",
   "execution_count": 383,
   "metadata": {},
   "outputs": [],
   "source": [
    "percentage = rms/(2*math.pi*0.3)"
   ]
  },
  {
   "cell_type": "code",
   "execution_count": 384,
   "metadata": {},
   "outputs": [
    {
     "data": {
      "text/plain": [
       "0.006006610769958801"
      ]
     },
     "execution_count": 384,
     "metadata": {},
     "output_type": "execute_result"
    }
   ],
   "source": [
    "percentage"
   ]
  },
  {
   "cell_type": "code",
   "execution_count": 385,
   "metadata": {},
   "outputs": [
    {
     "data": {
      "text/plain": [
       "'0.60%'"
      ]
     },
     "execution_count": 385,
     "metadata": {},
     "output_type": "execute_result"
    }
   ],
   "source": [
    "\"{0:.2%}\".format(percentage)"
   ]
  },
  {
   "cell_type": "markdown",
   "metadata": {},
   "source": [
    "## Final Accuracy of Poisition"
   ]
  },
  {
   "cell_type": "markdown",
   "metadata": {},
   "source": [
    "## N = 3:"
   ]
  },
  {
   "cell_type": "markdown",
   "metadata": {},
   "source": [
    "$$0.47\\%$$"
   ]
  },
  {
   "cell_type": "markdown",
   "metadata": {},
   "source": [
    "## N = 5:"
   ]
  },
  {
   "cell_type": "markdown",
   "metadata": {},
   "source": [
    "$$0.60\\%$$"
   ]
  }
 ],
 "metadata": {
  "kernelspec": {
   "display_name": "python3.6",
   "language": "python",
   "name": "python3.6"
  },
  "language_info": {
   "codemirror_mode": {
    "name": "ipython",
    "version": 2
   },
   "file_extension": ".py",
   "mimetype": "text/x-python",
   "name": "python",
   "nbconvert_exporter": "python",
   "pygments_lexer": "ipython2",
   "version": "2.7.13"
  }
 },
 "nbformat": 4,
 "nbformat_minor": 2
}
