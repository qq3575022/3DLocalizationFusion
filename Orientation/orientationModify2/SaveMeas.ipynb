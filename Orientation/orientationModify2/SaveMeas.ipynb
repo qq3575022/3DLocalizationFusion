{
 "cells": [
  {
   "cell_type": "code",
   "execution_count": 5,
   "metadata": {},
   "outputs": [],
   "source": [
    "import pandas as pd\n",
    "import numpy as np\n",
    "import matplotlib.pyplot as plt"
   ]
  },
  {
   "cell_type": "code",
   "execution_count": 6,
   "metadata": {},
   "outputs": [
    {
     "name": "stdout",
     "output_type": "stream",
     "text": [
      "\u001b[34mCode\u001b[m\u001b[m            NumOrient.bmp   SaveMeas.ipynb  ScalarBias.docx r.csv\r\n"
     ]
    }
   ],
   "source": [
    "!ls"
   ]
  },
  {
   "cell_type": "code",
   "execution_count": 7,
   "metadata": {},
   "outputs": [
    {
     "name": "stdout",
     "output_type": "stream",
     "text": [
      "/Users/Joanna/Desktop/Polaris/phaseII/ZUPT/Final/ZUPTScalarMeas\r\n"
     ]
    }
   ],
   "source": [
    "!pwd"
   ]
  },
  {
   "cell_type": "markdown",
   "metadata": {},
   "source": [
    "# Demo"
   ]
  },
  {
   "cell_type": "code",
   "execution_count": 8,
   "metadata": {},
   "outputs": [],
   "source": [
    "std = pd.read_csv('r.csv', index_col = None, header = None)\n",
    "\n",
    "std[0]=(1.0*(std[0] - std[0][0]) /1000000000).astype('float');\n",
    "\n",
    "time = std[0].values"
   ]
  },
  {
   "cell_type": "markdown",
   "metadata": {},
   "source": [
    "# Extract td3 tdacc tdgyro tdmag"
   ]
  },
  {
   "cell_type": "markdown",
   "metadata": {},
   "source": [
    "## 1. td3 "
   ]
  },
  {
   "cell_type": "code",
   "execution_count": 9,
   "metadata": {},
   "outputs": [],
   "source": [
    "time = std[0].values - std[0].values[0]"
   ]
  },
  {
   "cell_type": "code",
   "execution_count": 10,
   "metadata": {
    "scrolled": true
   },
   "outputs": [
    {
     "data": {
      "text/plain": [
       "array([0.00000000e+00, 2.49023440e-02, 3.60717770e-02, ...,\n",
       "       7.51545730e+01, 7.51570449e+01, 7.51570449e+01])"
      ]
     },
     "execution_count": 10,
     "metadata": {},
     "output_type": "execute_result"
    }
   ],
   "source": [
    "time"
   ]
  },
  {
   "cell_type": "markdown",
   "metadata": {},
   "source": [
    "## 2. tdacc "
   ]
  },
  {
   "cell_type": "code",
   "execution_count": 11,
   "metadata": {},
   "outputs": [],
   "source": [
    "acc_t = std[std[1]==' ACC_UN'][0].values - std[std[1]==' ACC_UN'][0].values[0]"
   ]
  },
  {
   "cell_type": "code",
   "execution_count": 12,
   "metadata": {},
   "outputs": [
    {
     "data": {
      "text/plain": [
       "array([0.        , 0.00250244, 0.00500488, 0.00747681, 0.00994873,\n",
       "       0.01242065, 0.01489258, 0.0173645 , 0.01983643, 0.02227783])"
      ]
     },
     "execution_count": 12,
     "metadata": {},
     "output_type": "execute_result"
    }
   ],
   "source": [
    "acc_t[0:10]"
   ]
  },
  {
   "cell_type": "markdown",
   "metadata": {},
   "source": [
    "## 3. tdgyro"
   ]
  },
  {
   "cell_type": "code",
   "execution_count": 13,
   "metadata": {},
   "outputs": [],
   "source": [
    "gyro_t = std[std[1]==' GYRO_UN'][0].values - std[std[1]==' GYRO_UN'][0].values[0]"
   ]
  },
  {
   "cell_type": "code",
   "execution_count": 14,
   "metadata": {},
   "outputs": [
    {
     "data": {
      "text/plain": [
       "array([0.        , 0.00247192, 0.00491333, 0.00738525, 0.00985718,\n",
       "       0.01229858, 0.01477051, 0.01724243, 0.01968384, 0.02215576])"
      ]
     },
     "execution_count": 14,
     "metadata": {},
     "output_type": "execute_result"
    }
   ],
   "source": [
    "gyro_t[0:10]"
   ]
  },
  {
   "cell_type": "markdown",
   "metadata": {},
   "source": [
    "## 3. tdmag"
   ]
  },
  {
   "cell_type": "code",
   "execution_count": 15,
   "metadata": {},
   "outputs": [],
   "source": [
    "mag_t = std[std[1]==' MAG_UN'][0].values - std[std[1]==' MAG_UN'][0].values[0]"
   ]
  },
  {
   "cell_type": "code",
   "execution_count": 16,
   "metadata": {},
   "outputs": [
    {
     "data": {
      "text/plain": [
       "array([0.        , 0.02490234, 0.04055786, 0.06051636, 0.08084106,\n",
       "       0.10037231, 0.1201477 , 0.1401062 , 0.16009522, 0.18011475])"
      ]
     },
     "execution_count": 16,
     "metadata": {},
     "output_type": "execute_result"
    }
   ],
   "source": [
    "mag_t[:10]"
   ]
  },
  {
   "cell_type": "code",
   "execution_count": 17,
   "metadata": {},
   "outputs": [
    {
     "data": {
      "text/plain": [
       "3760"
      ]
     },
     "execution_count": 17,
     "metadata": {},
     "output_type": "execute_result"
    }
   ],
   "source": [
    "len(mag_t)"
   ]
  },
  {
   "cell_type": "code",
   "execution_count": 18,
   "metadata": {},
   "outputs": [],
   "source": [
    "import scipy.io as sio"
   ]
  },
  {
   "cell_type": "code",
   "execution_count": 19,
   "metadata": {},
   "outputs": [],
   "source": [
    "sio.savemat('time.mat', {'time':time})"
   ]
  },
  {
   "cell_type": "code",
   "execution_count": 20,
   "metadata": {},
   "outputs": [],
   "source": [
    "sio.savemat('magT.mat', {'magT':mag_t})\n",
    "sio.savemat('accT.mat', {'accT':acc_t})\n",
    "sio.savemat('gyroT.mat', {'gyroT':gyro_t})"
   ]
  },
  {
   "cell_type": "code",
   "execution_count": 21,
   "metadata": {},
   "outputs": [
    {
     "data": {
      "text/plain": [
       "69296"
      ]
     },
     "execution_count": 21,
     "metadata": {},
     "output_type": "execute_result"
    }
   ],
   "source": [
    "len(time)"
   ]
  },
  {
   "cell_type": "markdown",
   "metadata": {},
   "source": [
    "# Extract acc"
   ]
  },
  {
   "cell_type": "code",
   "execution_count": 22,
   "metadata": {},
   "outputs": [
    {
     "data": {
      "text/plain": [
       "Text(0,0.5,u'acceleration (m/s^2)')"
      ]
     },
     "execution_count": 22,
     "metadata": {},
     "output_type": "execute_result"
    },
    {
     "data": {
      "image/png": "[encoded data removed]",
      "text/plain": [
       "<matplotlib.figure.Figure at 0x117c8bd10>"
      ]
     },
     "metadata": {},
     "output_type": "display_data"
    }
   ],
   "source": [
    "## Acceleration\n",
    "std_acc = std[std[1]==' ACC_UN']\n",
    "\n",
    "acc_x = std_acc[2].values\n",
    "acc_y = std_acc[3].values\n",
    "acc_z = std_acc[4].values\n",
    "\n",
    "acc_t = std_acc[0].values\n",
    "\n",
    "plt.plot(acc_t, acc_x)\n",
    "plt.plot(acc_t, acc_y)\n",
    "plt.plot(acc_t, acc_z)\n",
    "\n",
    "plt.legend(['acc x','acc y','acc z'], loc = 'upper right')\n",
    "plt.xlabel('time (s)')\n",
    "plt.ylabel('acceleration (m/s^2)')"
   ]
  },
  {
   "cell_type": "code",
   "execution_count": 23,
   "metadata": {},
   "outputs": [],
   "source": [
    "import math"
   ]
  },
  {
   "cell_type": "code",
   "execution_count": 24,
   "metadata": {},
   "outputs": [],
   "source": [
    "roll = np.zeros(len(acc_x))\n",
    "for i in range(len(roll)):\n",
    "    roll[i] = -math.atan2(-acc_x[i], acc_y[i])\n"
   ]
  },
  {
   "cell_type": "code",
   "execution_count": 25,
   "metadata": {},
   "outputs": [
    {
     "data": {
      "text/plain": [
       "Text(0,0.5,u'roll (rad)')"
      ]
     },
     "execution_count": 25,
     "metadata": {},
     "output_type": "execute_result"
    },
    {
     "data": {
      "image/png": "[encoded data removed]",
      "text/plain": [
       "<matplotlib.figure.Figure at 0x117da9f90>"
      ]
     },
     "metadata": {},
     "output_type": "display_data"
    }
   ],
   "source": [
    "plt.plot(acc_t, roll)\n",
    "plt.xlabel('time (s)')\n",
    "plt.ylabel('roll (rad)')"
   ]
  },
  {
   "cell_type": "code",
   "execution_count": 26,
   "metadata": {},
   "outputs": [],
   "source": [
    "yaw = np.zeros(len(acc_x))\n",
    "for i in range(len(roll)):\n",
    "    yaw[i] = -math.atan2(-acc_z[i], np.sign(acc_y[i])*np.sqrt(acc_x[i]**2 +acc_y[i]**2))\n"
   ]
  },
  {
   "cell_type": "code",
   "execution_count": 27,
   "metadata": {},
   "outputs": [
    {
     "data": {
      "text/plain": [
       "Text(0,0.5,u'roll (rad)')"
      ]
     },
     "execution_count": 27,
     "metadata": {},
     "output_type": "execute_result"
    },
    {
     "data": {
      "image/png": "[encoded data removed]",
      "text/plain": [
       "<matplotlib.figure.Figure at 0x117d905d0>"
      ]
     },
     "metadata": {},
     "output_type": "display_data"
    }
   ],
   "source": [
    "plt.plot(acc_t, yaw)\n",
    "plt.xlabel('time (s)')\n",
    "plt.ylabel('roll (rad)')"
   ]
  },
  {
   "cell_type": "code",
   "execution_count": 28,
   "metadata": {},
   "outputs": [],
   "source": [
    "sio.savemat('accx.mat', {'accx':acc_x})\n",
    "sio.savemat('accy.mat', {'accy':acc_y})\n",
    "sio.savemat('accz.mat', {'accz':acc_z})"
   ]
  },
  {
   "cell_type": "code",
   "execution_count": 29,
   "metadata": {},
   "outputs": [
    {
     "data": {
      "text/plain": [
       "Text(0,0.5,u'acceleration (m/s^2)')"
      ]
     },
     "execution_count": 29,
     "metadata": {},
     "output_type": "execute_result"
    },
    {
     "data": {
      "image/png": "[encoded data removed]",
      "text/plain": [
       "<matplotlib.figure.Figure at 0x11529e210>"
      ]
     },
     "metadata": {},
     "output_type": "display_data"
    }
   ],
   "source": [
    "## Angular Velocity\n",
    "std_gyro = std[std[1]==' GYRO_UN']\n",
    "\n",
    "gyro_x = std_gyro[2].values\n",
    "gyro_y = std_gyro[3].values\n",
    "gyro_z = std_gyro[4].values\n",
    "\n",
    "gyro_t = std_gyro[0].values\n",
    "\n",
    "plt.plot(gyro_t, gyro_x)\n",
    "plt.plot(gyro_t, gyro_y)\n",
    "plt.plot(gyro_t, gyro_z)\n",
    "\n",
    "plt.legend(['acc x','acc y','acc z'], loc = 'upper right')\n",
    "plt.xlabel('time (s)')\n",
    "plt.ylabel('acceleration (m/s^2)')"
   ]
  },
  {
   "cell_type": "code",
   "execution_count": 30,
   "metadata": {},
   "outputs": [
    {
     "data": {
      "text/plain": [
       "0.0020295250284918034"
      ]
     },
     "execution_count": 30,
     "metadata": {},
     "output_type": "execute_result"
    }
   ],
   "source": [
    "np.mean(gyro_x)"
   ]
  },
  {
   "cell_type": "code",
   "execution_count": 31,
   "metadata": {},
   "outputs": [
    {
     "data": {
      "text/plain": [
       "-0.01584969341045902"
      ]
     },
     "execution_count": 31,
     "metadata": {},
     "output_type": "execute_result"
    }
   ],
   "source": [
    "np.mean(gyro_y)"
   ]
  },
  {
   "cell_type": "code",
   "execution_count": 32,
   "metadata": {},
   "outputs": [
    {
     "data": {
      "text/plain": [
       "0.05325788505763934"
      ]
     },
     "execution_count": 32,
     "metadata": {},
     "output_type": "execute_result"
    }
   ],
   "source": [
    "np.mean(gyro_z)"
   ]
  },
  {
   "cell_type": "code",
   "execution_count": 33,
   "metadata": {},
   "outputs": [],
   "source": [
    "sio.savemat('gyrox.mat', {'gyrox':gyro_x})\n",
    "sio.savemat('gyroy.mat', {'gyroy':gyro_y})\n",
    "sio.savemat('gyroz.mat', {'gyroz':gyro_z})"
   ]
  },
  {
   "cell_type": "code",
   "execution_count": 34,
   "metadata": {},
   "outputs": [
    {
     "data": {
      "text/plain": [
       "Text(0,0.5,u'orientation (rad)')"
      ]
     },
     "execution_count": 34,
     "metadata": {},
     "output_type": "execute_result"
    },
    {
     "data": {
      "image/png": "[encoded data removed]",
      "text/plain": [
       "<matplotlib.figure.Figure at 0x11529eb90>"
      ]
     },
     "metadata": {},
     "output_type": "display_data"
    }
   ],
   "source": [
    "## Magnetometer\n",
    "std_mag = std[std[1]==' MAG_UN']\n",
    "\n",
    "mag_x = std_mag[2].values\n",
    "mag_y = std_mag[3].values\n",
    "mag_z = std_mag[4].values\n",
    "\n",
    "mag_t = std_mag[0].values\n",
    "\n",
    "plt.plot(mag_t, mag_x)\n",
    "plt.plot(mag_t, mag_y)\n",
    "plt.plot(mag_t, mag_z)\n",
    "\n",
    "plt.legend(['mag x','mag y','mag z'], loc = 'upper right')\n",
    "plt.xlabel('time (s)')\n",
    "plt.ylabel('orientation (rad)')"
   ]
  },
  {
   "cell_type": "code",
   "execution_count": 35,
   "metadata": {},
   "outputs": [],
   "source": [
    "sio.savemat('magx.mat', {'magx':mag_x})\n",
    "sio.savemat('magy.mat', {'magy':mag_y})\n",
    "sio.savemat('magz.mat', {'magz':mag_z})"
   ]
  },
  {
   "cell_type": "code",
   "execution_count": null,
   "metadata": {},
   "outputs": [],
   "source": []
  },
  {
   "cell_type": "code",
   "execution_count": null,
   "metadata": {},
   "outputs": [],
   "source": []
  },
  {
   "cell_type": "code",
   "execution_count": null,
   "metadata": {},
   "outputs": [],
   "source": []
  }
 ],
 "metadata": {
  "kernelspec": {
   "display_name": "python3.6",
   "language": "python",
   "name": "python3.6"
  },
  "language_info": {
   "codemirror_mode": {
    "name": "ipython",
    "version": 2
   },
   "file_extension": ".py",
   "mimetype": "text/x-python",
   "name": "python",
   "nbconvert_exporter": "python",
   "pygments_lexer": "ipython2",
   "version": "2.7.13"
  }
 },
 "nbformat": 4,
 "nbformat_minor": 2
}
